{
  "nbformat": 4,
  "nbformat_minor": 0,
  "metadata": {
    "kernelspec": {
      "display_name": "Python 3",
      "language": "python",
      "name": "python3"
    },
    "language_info": {
      "codemirror_mode": {
        "name": "ipython",
        "version": 3
      },
      "file_extension": ".py",
      "mimetype": "text/x-python",
      "name": "python",
      "nbconvert_exporter": "python",
      "pygments_lexer": "ipython3",
      "version": "3.6.10"
    },
    "colab": {
      "name": "RegressionTree.ipynb",
      "provenance": [],
      "collapsed_sections": []
    }
  },
  "cells": [
    {
      "cell_type": "code",
      "metadata": {
        "id": "CLF0mhEyqqM_",
        "colab_type": "code",
        "colab": {}
      },
      "source": [
        "# import numpy package for arrays and stuff \n",
        "import numpy as np  \n",
        "  \n",
        "# import matplotlib.pyplot for plotting our result \n",
        "import matplotlib.pyplot as plt \n",
        "  \n",
        "# import pandas for importing csv files  \n",
        "import pandas as pd  "
      ],
      "execution_count": 0,
      "outputs": []
    },
    {
      "cell_type": "code",
      "metadata": {
        "id": "Ln1BTwIvqqNK",
        "colab_type": "code",
        "colab": {}
      },
      "source": [
        "# Create artificial data set\n",
        "dataset = np.array(\n",
        "[[0, 'Model', 'Condition', 'Leslie', 'Price'], \n",
        "[1, 'B3', 'excellent', 'yes', 4513], \n",
        "[2, 'T202', 'fair', 'yes', 625], \n",
        "[3, 'A100', 'good', 'yes', 1051], \n",
        "[4, 'T202', 'good', 'no', 270], \n",
        "[5, 'M102', 'good', 'yes', 870], \n",
        "[6, 'A100', 'excellent', 'no', 1770], \n",
        "[7, 'T202', 'fair', 'no', 99],\n",
        "[8, 'A100', 'good', 'yes', 1900],\n",
        "[9, 'E112', 'fair', 'no', 77]\n",
        "]) "
      ],
      "execution_count": 0,
      "outputs": []
    },
    {
      "cell_type": "code",
      "metadata": {
        "id": "uTdwGFT4qqNR",
        "colab_type": "code",
        "colab": {}
      },
      "source": [
        "df = pd.DataFrame(data=dataset[1:,1:],    # values\n",
        "index=dataset[1:,0],    # 1st column as index\n",
        "columns=dataset[0,1:])  # 1st row as the column names\n",
        "df = df.astype(dtype={\"Model\":\"category\", \"Condition\":\"category\",\"Leslie\":\"category\", \"Price\":np.int})"
      ],
      "execution_count": 0,
      "outputs": []
    },
    {
      "cell_type": "code",
      "metadata": {
        "id": "vtpJXR7rqqNV",
        "colab_type": "code",
        "outputId": "f2ccffce-6c5c-4567-866a-c61121e3af6b",
        "colab": {
          "base_uri": "https://localhost:8080/",
          "height": 328
        }
      },
      "source": [
        "df"
      ],
      "execution_count": 20,
      "outputs": [
        {
          "output_type": "execute_result",
          "data": {
            "text/html": [
              "<div>\n",
              "<style scoped>\n",
              "    .dataframe tbody tr th:only-of-type {\n",
              "        vertical-align: middle;\n",
              "    }\n",
              "\n",
              "    .dataframe tbody tr th {\n",
              "        vertical-align: top;\n",
              "    }\n",
              "\n",
              "    .dataframe thead th {\n",
              "        text-align: right;\n",
              "    }\n",
              "</style>\n",
              "<table border=\"1\" class=\"dataframe\">\n",
              "  <thead>\n",
              "    <tr style=\"text-align: right;\">\n",
              "      <th></th>\n",
              "      <th>Model</th>\n",
              "      <th>Condition</th>\n",
              "      <th>Leslie</th>\n",
              "      <th>Price</th>\n",
              "    </tr>\n",
              "  </thead>\n",
              "  <tbody>\n",
              "    <tr>\n",
              "      <th>1</th>\n",
              "      <td>B3</td>\n",
              "      <td>excellent</td>\n",
              "      <td>yes</td>\n",
              "      <td>4513</td>\n",
              "    </tr>\n",
              "    <tr>\n",
              "      <th>2</th>\n",
              "      <td>T202</td>\n",
              "      <td>fair</td>\n",
              "      <td>yes</td>\n",
              "      <td>625</td>\n",
              "    </tr>\n",
              "    <tr>\n",
              "      <th>3</th>\n",
              "      <td>A100</td>\n",
              "      <td>good</td>\n",
              "      <td>yes</td>\n",
              "      <td>1051</td>\n",
              "    </tr>\n",
              "    <tr>\n",
              "      <th>4</th>\n",
              "      <td>T202</td>\n",
              "      <td>good</td>\n",
              "      <td>no</td>\n",
              "      <td>270</td>\n",
              "    </tr>\n",
              "    <tr>\n",
              "      <th>5</th>\n",
              "      <td>M102</td>\n",
              "      <td>good</td>\n",
              "      <td>yes</td>\n",
              "      <td>870</td>\n",
              "    </tr>\n",
              "    <tr>\n",
              "      <th>6</th>\n",
              "      <td>A100</td>\n",
              "      <td>excellent</td>\n",
              "      <td>no</td>\n",
              "      <td>1770</td>\n",
              "    </tr>\n",
              "    <tr>\n",
              "      <th>7</th>\n",
              "      <td>T202</td>\n",
              "      <td>fair</td>\n",
              "      <td>no</td>\n",
              "      <td>99</td>\n",
              "    </tr>\n",
              "    <tr>\n",
              "      <th>8</th>\n",
              "      <td>A100</td>\n",
              "      <td>good</td>\n",
              "      <td>yes</td>\n",
              "      <td>1900</td>\n",
              "    </tr>\n",
              "    <tr>\n",
              "      <th>9</th>\n",
              "      <td>E112</td>\n",
              "      <td>fair</td>\n",
              "      <td>no</td>\n",
              "      <td>77</td>\n",
              "    </tr>\n",
              "  </tbody>\n",
              "</table>\n",
              "</div>"
            ],
            "text/plain": [
              "  Model  Condition Leslie  Price\n",
              "1    B3  excellent    yes   4513\n",
              "2  T202       fair    yes    625\n",
              "3  A100       good    yes   1051\n",
              "4  T202       good     no    270\n",
              "5  M102       good    yes    870\n",
              "6  A100  excellent     no   1770\n",
              "7  T202       fair     no     99\n",
              "8  A100       good    yes   1900\n",
              "9  E112       fair     no     77"
            ]
          },
          "metadata": {
            "tags": []
          },
          "execution_count": 20
        }
      ]
    },
    {
      "cell_type": "code",
      "metadata": {
        "id": "nEiS9_LXqqNb",
        "colab_type": "code",
        "colab": {}
      },
      "source": [
        "# One hot encoding\n",
        "X = pd.get_dummies(df[[\"Model\",\"Condition\",\"Leslie\"]],drop_first=True)\n",
        "y = df['Price']\n",
        "\n",
        "#print(X) "
      ],
      "execution_count": 0,
      "outputs": []
    },
    {
      "cell_type": "code",
      "metadata": {
        "id": "WeYpfzZgqqNf",
        "colab_type": "code",
        "outputId": "4cdc8298-87b8-4a2c-9a0b-8b034b865e5a",
        "colab": {
          "base_uri": "https://localhost:8080/",
          "height": 119
        }
      },
      "source": [
        "# import the regressor \n",
        "from sklearn.tree import DecisionTreeRegressor  \n",
        "  \n",
        "# create a regressor object \n",
        "regressor = DecisionTreeRegressor(random_state = 0, max_depth = 2)  \n",
        "  \n",
        "# fit the regressor with X and Y data \n",
        "regressor.fit(X, y) "
      ],
      "execution_count": 22,
      "outputs": [
        {
          "output_type": "execute_result",
          "data": {
            "text/plain": [
              "DecisionTreeRegressor(ccp_alpha=0.0, criterion='mse', max_depth=2,\n",
              "                      max_features=None, max_leaf_nodes=None,\n",
              "                      min_impurity_decrease=0.0, min_impurity_split=None,\n",
              "                      min_samples_leaf=1, min_samples_split=2,\n",
              "                      min_weight_fraction_leaf=0.0, presort='deprecated',\n",
              "                      random_state=0, splitter='best')"
            ]
          },
          "metadata": {
            "tags": []
          },
          "execution_count": 22
        }
      ]
    },
    {
      "cell_type": "code",
      "metadata": {
        "id": "gFAbD8pfqqNi",
        "colab_type": "code",
        "outputId": "9c87c5ef-788c-4a6c-b80f-71a6e780bd6f",
        "colab": {
          "base_uri": "https://localhost:8080/",
          "height": 34
        }
      },
      "source": [
        "from google.colab import drive\n",
        "drive.mount('/content/drive/')\n",
        "import sys\n",
        "sys.path.append('/content/drive/My Drive/Colab Notebooks/PEA_project/')\n",
        "\n",
        "from auxiliaryFunctions import rules"
      ],
      "execution_count": 25,
      "outputs": [
        {
          "output_type": "stream",
          "text": [
            "Drive already mounted at /content/drive/; to attempt to forcibly remount, call drive.mount(\"/content/drive/\", force_remount=True).\n"
          ],
          "name": "stdout"
        }
      ]
    },
    {
      "cell_type": "code",
      "metadata": {
        "id": "9mIpUm2HqqNk",
        "colab_type": "code",
        "outputId": "256c8bee-e738-4d95-f46a-2a482f5c1fa0",
        "colab": {
          "base_uri": "https://localhost:8080/",
          "height": 102
        }
      },
      "source": [
        "#generate dictonary object that describes the tree\n",
        "rule_dict = rules(regressor, X.columns.values, [y.name])\n",
        "rule_dict"
      ],
      "execution_count": 26,
      "outputs": [
        {
          "output_type": "execute_result",
          "data": {
            "text/plain": [
              "{'children': [{'children': None, 'name': '4513 of Price'},\n",
              "  {'children': [{'children': None, 'name': '267 of Price'},\n",
              "    {'children': None, 'name': '1172 of Price'}],\n",
              "   'name': 'Condition_fair > 0.5'}],\n",
              " 'name': 'Model_B3 > 0.5'}"
            ]
          },
          "metadata": {
            "tags": []
          },
          "execution_count": 26
        }
      ]
    },
    {
      "cell_type": "code",
      "metadata": {
        "id": "woK2WxOZqqNn",
        "colab_type": "code",
        "outputId": "0d88f683-ee55-497c-9f1e-23fad263f57f",
        "colab": {
          "base_uri": "https://localhost:8080/",
          "height": 391
        }
      },
      "source": [
        "import json\n",
        "#generate JSON file\n",
        "print(json.dumps(rule_dict, indent=2))"
      ],
      "execution_count": 27,
      "outputs": [
        {
          "output_type": "stream",
          "text": [
            "{\n",
            "  \"name\": \"Model_B3 > 0.5\",\n",
            "  \"children\": [\n",
            "    {\n",
            "      \"name\": \"4513 of Price\",\n",
            "      \"children\": null\n",
            "    },\n",
            "    {\n",
            "      \"name\": \"Condition_fair > 0.5\",\n",
            "      \"children\": [\n",
            "        {\n",
            "          \"name\": \"267 of Price\",\n",
            "          \"children\": null\n",
            "        },\n",
            "        {\n",
            "          \"name\": \"1172 of Price\",\n",
            "          \"children\": null\n",
            "        }\n",
            "      ]\n",
            "    }\n",
            "  ]\n",
            "}\n"
          ],
          "name": "stdout"
        }
      ]
    },
    {
      "cell_type": "code",
      "metadata": {
        "id": "xHBwFjaNqqNq",
        "colab_type": "code",
        "colab": {}
      },
      "source": [
        "# Dump the dictionary to rules.json\n",
        "with open('rules.json', 'w') as f:\n",
        "    json.dump(rule_dict, f, indent=2)"
      ],
      "execution_count": 0,
      "outputs": []
    },
    {
      "cell_type": "code",
      "metadata": {
        "id": "0OBNgkqVqqNs",
        "colab_type": "code",
        "outputId": "981c9249-1520-4ad5-f08e-abb32ada7ea8",
        "colab": {
          "base_uri": "https://localhost:8080/",
          "height": 376
        }
      },
      "source": [
        "import pydotplus\n",
        "from sklearn.tree import export_graphviz\n",
        "from IPython.display import Image\n",
        "from IPython.display import display\n",
        "\n",
        "dot_data = export_graphviz(\n",
        "regressor, \n",
        "out_file=None,\n",
        "feature_names=X.columns.values,  \n",
        "filled=True,\n",
        "rounded=True)\n",
        "\n",
        "graph = pydotplus.graph_from_dot_data(dot_data)  \n",
        "display(Image(graph.create_png()))"
      ],
      "execution_count": 29,
      "outputs": [
        {
          "output_type": "display_data",
          "data": {
            "image/png": "[encoded data removed]",
            "text/plain": [
              "<IPython.core.display.Image object>"
            ]
          },
          "metadata": {
            "tags": []
          }
        }
      ]
    }
  ]
}